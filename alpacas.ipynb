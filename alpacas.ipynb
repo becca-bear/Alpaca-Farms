{
 "cells": [
  {
   "cell_type": "code",
   "execution_count": 2,
   "metadata": {},
   "outputs": [
    {
     "name": "stdout",
     "output_type": "stream",
     "text": [
      "        id                         name            addressOne addressTwo  \\\n",
      "0     7398     High Country Alpacas LLC  4128 County Road 129              \n",
      "1     8366       Tiskilwa Farms Alpacas                   NaN        NaN   \n",
      "2    10750          Margery-Ray Alpacas                   NaN        NaN   \n",
      "3    20438        North Country Alpacas                   NaN        NaN   \n",
      "4     7066  Awesome Acres 'Pacas & Pyrs                   NaN        NaN   \n",
      "..     ...                          ...                   ...        ...   \n",
      "670  21887       Brenda & Perry Hillman                   NaN        NaN   \n",
      "671  21888         Elk Meadow Homestead                   NaN        NaN   \n",
      "672  21895             Arbuckle Alpacas                   NaN        NaN   \n",
      "673  21903   Cockrills Country Critters                   NaN        NaN   \n",
      "674  21916     Alpacas Goats and Dreams                   NaN        NaN   \n",
      "\n",
      "                 city state    zip                      email  \\\n",
      "0            Hesperus    CO  81326  mary.wilcox2001@gmail.com   \n",
      "1            Tiskilwa    IL  61368                        NaN   \n",
      "2    Concord Township    OH  44077                        NaN   \n",
      "3            Le Sueur    MN  56058                        NaN   \n",
      "4       Oklahoma City    OK  73165                        NaN   \n",
      "..                ...   ...    ...                        ...   \n",
      "670          Monmouth    IL  61462                        NaN   \n",
      "671        Wellsville    UT  84339                        NaN   \n",
      "672           Ardmore    OK  73401                        NaN   \n",
      "673            Austin    AR  72007                        NaN   \n",
      "674           Arcadia    MO  63621                        NaN   \n",
      "\n",
      "               phone                     website        lat         lng  \n",
      "0      +480-296-8588  www.highcountryalpacas.com  37.172791 -108.092308  \n",
      "1      +312-342-9855                         NaN  41.307129  -89.628487  \n",
      "2      +440-251-0668                         NaN  41.660469  -81.199707  \n",
      "3      +612-756-4262                         NaN  44.453220  -93.872223  \n",
      "4        +4059908205                         NaN  35.350361  -97.300171  \n",
      "..               ...                         ...        ...         ...  \n",
      "670  +(309) 221-4814                         NaN  40.974480  -90.679520  \n",
      "671    +435-770-8505                         NaN  41.583530 -111.927330  \n",
      "672              NaN                         NaN  34.194691  -97.094307  \n",
      "673              NaN                         NaN  35.029079  -92.001289  \n",
      "674    +612-267-3288                         NaN  37.598518  -90.558739  \n",
      "\n",
      "[618 rows x 12 columns]\n"
     ]
    }
   ],
   "source": [
    "import pandas as pd\n",
    "import json\n",
    "import numpy as np \n",
    "import pandas as pd \n",
    "import matplotlib.pyplot as plt\n",
    "import plotly.express as px\n",
    "import seaborn as sns\n",
    "\n",
    "# Load the JSON data from the file\n",
    "with open('alpacas.json') as f:\n",
    "    data = json.load(f)\n",
    "\n",
    "# Flatten the farms data into a DataFrame\n",
    "alpaca_df = pd.json_normalize(data['farms'])\n",
    "\n",
    "\n",
    "# Remove blank spaces in state column\n",
    "alpaca_df = alpaca_df[alpaca_df['state'] != '']\n",
    "\n",
    "# Print the resulting DataFrame\n",
    "print(alpaca_df)\n"
   ]
  },
  {
   "cell_type": "code",
   "execution_count": 3,
   "metadata": {},
   "outputs": [
    {
     "data": {
      "text/html": [
       "<div>\n",
       "<style scoped>\n",
       "    .dataframe tbody tr th:only-of-type {\n",
       "        vertical-align: middle;\n",
       "    }\n",
       "\n",
       "    .dataframe tbody tr th {\n",
       "        vertical-align: top;\n",
       "    }\n",
       "\n",
       "    .dataframe thead th {\n",
       "        text-align: right;\n",
       "    }\n",
       "</style>\n",
       "<table border=\"1\" class=\"dataframe\">\n",
       "  <thead>\n",
       "    <tr style=\"text-align: right;\">\n",
       "      <th></th>\n",
       "      <th>id</th>\n",
       "      <th>name</th>\n",
       "      <th>addressOne</th>\n",
       "      <th>addressTwo</th>\n",
       "      <th>city</th>\n",
       "      <th>state</th>\n",
       "      <th>zip</th>\n",
       "      <th>email</th>\n",
       "      <th>phone</th>\n",
       "      <th>website</th>\n",
       "      <th>lat</th>\n",
       "      <th>lng</th>\n",
       "    </tr>\n",
       "  </thead>\n",
       "  <tbody>\n",
       "    <tr>\n",
       "      <th>0</th>\n",
       "      <td>7398</td>\n",
       "      <td>High Country Alpacas LLC</td>\n",
       "      <td>4128 County Road 129</td>\n",
       "      <td></td>\n",
       "      <td>Hesperus</td>\n",
       "      <td>CO</td>\n",
       "      <td>81326</td>\n",
       "      <td>mary.wilcox2001@gmail.com</td>\n",
       "      <td>+480-296-8588</td>\n",
       "      <td>www.highcountryalpacas.com</td>\n",
       "      <td>37.172791</td>\n",
       "      <td>-108.092308</td>\n",
       "    </tr>\n",
       "    <tr>\n",
       "      <th>1</th>\n",
       "      <td>8366</td>\n",
       "      <td>Tiskilwa Farms Alpacas</td>\n",
       "      <td>NaN</td>\n",
       "      <td>NaN</td>\n",
       "      <td>Tiskilwa</td>\n",
       "      <td>IL</td>\n",
       "      <td>61368</td>\n",
       "      <td>NaN</td>\n",
       "      <td>+312-342-9855</td>\n",
       "      <td>NaN</td>\n",
       "      <td>41.307129</td>\n",
       "      <td>-89.628487</td>\n",
       "    </tr>\n",
       "    <tr>\n",
       "      <th>2</th>\n",
       "      <td>10750</td>\n",
       "      <td>Margery-Ray Alpacas</td>\n",
       "      <td>NaN</td>\n",
       "      <td>NaN</td>\n",
       "      <td>Concord Township</td>\n",
       "      <td>OH</td>\n",
       "      <td>44077</td>\n",
       "      <td>NaN</td>\n",
       "      <td>+440-251-0668</td>\n",
       "      <td>NaN</td>\n",
       "      <td>41.660469</td>\n",
       "      <td>-81.199707</td>\n",
       "    </tr>\n",
       "    <tr>\n",
       "      <th>3</th>\n",
       "      <td>20438</td>\n",
       "      <td>North Country Alpacas</td>\n",
       "      <td>NaN</td>\n",
       "      <td>NaN</td>\n",
       "      <td>Le Sueur</td>\n",
       "      <td>MN</td>\n",
       "      <td>56058</td>\n",
       "      <td>NaN</td>\n",
       "      <td>+612-756-4262</td>\n",
       "      <td>NaN</td>\n",
       "      <td>44.453220</td>\n",
       "      <td>-93.872223</td>\n",
       "    </tr>\n",
       "    <tr>\n",
       "      <th>4</th>\n",
       "      <td>7066</td>\n",
       "      <td>Awesome Acres 'Pacas &amp; Pyrs</td>\n",
       "      <td>NaN</td>\n",
       "      <td>NaN</td>\n",
       "      <td>Oklahoma City</td>\n",
       "      <td>OK</td>\n",
       "      <td>73165</td>\n",
       "      <td>NaN</td>\n",
       "      <td>+4059908205</td>\n",
       "      <td>NaN</td>\n",
       "      <td>35.350361</td>\n",
       "      <td>-97.300171</td>\n",
       "    </tr>\n",
       "    <tr>\n",
       "      <th>...</th>\n",
       "      <td>...</td>\n",
       "      <td>...</td>\n",
       "      <td>...</td>\n",
       "      <td>...</td>\n",
       "      <td>...</td>\n",
       "      <td>...</td>\n",
       "      <td>...</td>\n",
       "      <td>...</td>\n",
       "      <td>...</td>\n",
       "      <td>...</td>\n",
       "      <td>...</td>\n",
       "      <td>...</td>\n",
       "    </tr>\n",
       "    <tr>\n",
       "      <th>670</th>\n",
       "      <td>21887</td>\n",
       "      <td>Brenda &amp; Perry Hillman</td>\n",
       "      <td>NaN</td>\n",
       "      <td>NaN</td>\n",
       "      <td>Monmouth</td>\n",
       "      <td>IL</td>\n",
       "      <td>61462</td>\n",
       "      <td>NaN</td>\n",
       "      <td>+(309) 221-4814</td>\n",
       "      <td>NaN</td>\n",
       "      <td>40.974480</td>\n",
       "      <td>-90.679520</td>\n",
       "    </tr>\n",
       "    <tr>\n",
       "      <th>671</th>\n",
       "      <td>21888</td>\n",
       "      <td>Elk Meadow Homestead</td>\n",
       "      <td>NaN</td>\n",
       "      <td>NaN</td>\n",
       "      <td>Wellsville</td>\n",
       "      <td>UT</td>\n",
       "      <td>84339</td>\n",
       "      <td>NaN</td>\n",
       "      <td>+435-770-8505</td>\n",
       "      <td>NaN</td>\n",
       "      <td>41.583530</td>\n",
       "      <td>-111.927330</td>\n",
       "    </tr>\n",
       "    <tr>\n",
       "      <th>672</th>\n",
       "      <td>21895</td>\n",
       "      <td>Arbuckle Alpacas</td>\n",
       "      <td>NaN</td>\n",
       "      <td>NaN</td>\n",
       "      <td>Ardmore</td>\n",
       "      <td>OK</td>\n",
       "      <td>73401</td>\n",
       "      <td>NaN</td>\n",
       "      <td>NaN</td>\n",
       "      <td>NaN</td>\n",
       "      <td>34.194691</td>\n",
       "      <td>-97.094307</td>\n",
       "    </tr>\n",
       "    <tr>\n",
       "      <th>673</th>\n",
       "      <td>21903</td>\n",
       "      <td>Cockrills Country Critters</td>\n",
       "      <td>NaN</td>\n",
       "      <td>NaN</td>\n",
       "      <td>Austin</td>\n",
       "      <td>AR</td>\n",
       "      <td>72007</td>\n",
       "      <td>NaN</td>\n",
       "      <td>NaN</td>\n",
       "      <td>NaN</td>\n",
       "      <td>35.029079</td>\n",
       "      <td>-92.001289</td>\n",
       "    </tr>\n",
       "    <tr>\n",
       "      <th>674</th>\n",
       "      <td>21916</td>\n",
       "      <td>Alpacas Goats and Dreams</td>\n",
       "      <td>NaN</td>\n",
       "      <td>NaN</td>\n",
       "      <td>Arcadia</td>\n",
       "      <td>MO</td>\n",
       "      <td>63621</td>\n",
       "      <td>NaN</td>\n",
       "      <td>+612-267-3288</td>\n",
       "      <td>NaN</td>\n",
       "      <td>37.598518</td>\n",
       "      <td>-90.558739</td>\n",
       "    </tr>\n",
       "  </tbody>\n",
       "</table>\n",
       "<p>618 rows × 12 columns</p>\n",
       "</div>"
      ],
      "text/plain": [
       "        id                         name            addressOne addressTwo  \\\n",
       "0     7398     High Country Alpacas LLC  4128 County Road 129              \n",
       "1     8366       Tiskilwa Farms Alpacas                   NaN        NaN   \n",
       "2    10750          Margery-Ray Alpacas                   NaN        NaN   \n",
       "3    20438        North Country Alpacas                   NaN        NaN   \n",
       "4     7066  Awesome Acres 'Pacas & Pyrs                   NaN        NaN   \n",
       "..     ...                          ...                   ...        ...   \n",
       "670  21887       Brenda & Perry Hillman                   NaN        NaN   \n",
       "671  21888         Elk Meadow Homestead                   NaN        NaN   \n",
       "672  21895             Arbuckle Alpacas                   NaN        NaN   \n",
       "673  21903   Cockrills Country Critters                   NaN        NaN   \n",
       "674  21916     Alpacas Goats and Dreams                   NaN        NaN   \n",
       "\n",
       "                 city state    zip                      email  \\\n",
       "0            Hesperus    CO  81326  mary.wilcox2001@gmail.com   \n",
       "1            Tiskilwa    IL  61368                        NaN   \n",
       "2    Concord Township    OH  44077                        NaN   \n",
       "3            Le Sueur    MN  56058                        NaN   \n",
       "4       Oklahoma City    OK  73165                        NaN   \n",
       "..                ...   ...    ...                        ...   \n",
       "670          Monmouth    IL  61462                        NaN   \n",
       "671        Wellsville    UT  84339                        NaN   \n",
       "672           Ardmore    OK  73401                        NaN   \n",
       "673            Austin    AR  72007                        NaN   \n",
       "674           Arcadia    MO  63621                        NaN   \n",
       "\n",
       "               phone                     website        lat         lng  \n",
       "0      +480-296-8588  www.highcountryalpacas.com  37.172791 -108.092308  \n",
       "1      +312-342-9855                         NaN  41.307129  -89.628487  \n",
       "2      +440-251-0668                         NaN  41.660469  -81.199707  \n",
       "3      +612-756-4262                         NaN  44.453220  -93.872223  \n",
       "4        +4059908205                         NaN  35.350361  -97.300171  \n",
       "..               ...                         ...        ...         ...  \n",
       "670  +(309) 221-4814                         NaN  40.974480  -90.679520  \n",
       "671    +435-770-8505                         NaN  41.583530 -111.927330  \n",
       "672              NaN                         NaN  34.194691  -97.094307  \n",
       "673              NaN                         NaN  35.029079  -92.001289  \n",
       "674    +612-267-3288                         NaN  37.598518  -90.558739  \n",
       "\n",
       "[618 rows x 12 columns]"
      ]
     },
     "execution_count": 3,
     "metadata": {},
     "output_type": "execute_result"
    }
   ],
   "source": [
    "# Make a dataframe\n",
    "alpacas_info=pd.DataFrame(alpaca_df)\n",
    "\n",
    "alpacas_info\n",
    "\n"
   ]
  },
  {
   "cell_type": "code",
   "execution_count": 4,
   "metadata": {},
   "outputs": [
    {
     "data": {
      "text/html": [
       "<div>\n",
       "<style scoped>\n",
       "    .dataframe tbody tr th:only-of-type {\n",
       "        vertical-align: middle;\n",
       "    }\n",
       "\n",
       "    .dataframe tbody tr th {\n",
       "        vertical-align: top;\n",
       "    }\n",
       "\n",
       "    .dataframe thead th {\n",
       "        text-align: right;\n",
       "    }\n",
       "</style>\n",
       "<table border=\"1\" class=\"dataframe\">\n",
       "  <thead>\n",
       "    <tr style=\"text-align: right;\">\n",
       "      <th></th>\n",
       "      <th>id</th>\n",
       "      <th>name</th>\n",
       "      <th>addressOne</th>\n",
       "      <th>addressTwo</th>\n",
       "      <th>city</th>\n",
       "      <th>state</th>\n",
       "      <th>zip</th>\n",
       "      <th>email</th>\n",
       "      <th>phone</th>\n",
       "      <th>website</th>\n",
       "      <th>lat</th>\n",
       "      <th>lng</th>\n",
       "    </tr>\n",
       "  </thead>\n",
       "  <tbody>\n",
       "    <tr>\n",
       "      <th>0</th>\n",
       "      <td>7398</td>\n",
       "      <td>High Country Alpacas LLC</td>\n",
       "      <td>4128 County Road 129</td>\n",
       "      <td></td>\n",
       "      <td>Hesperus</td>\n",
       "      <td>CO</td>\n",
       "      <td>81326</td>\n",
       "      <td>mary.wilcox2001@gmail.com</td>\n",
       "      <td>+480-296-8588</td>\n",
       "      <td>www.highcountryalpacas.com</td>\n",
       "      <td>37.172791</td>\n",
       "      <td>-108.092308</td>\n",
       "    </tr>\n",
       "    <tr>\n",
       "      <th>1</th>\n",
       "      <td>8366</td>\n",
       "      <td>Tiskilwa Farms Alpacas</td>\n",
       "      <td>NaN</td>\n",
       "      <td>NaN</td>\n",
       "      <td>Tiskilwa</td>\n",
       "      <td>IL</td>\n",
       "      <td>61368</td>\n",
       "      <td>NaN</td>\n",
       "      <td>+312-342-9855</td>\n",
       "      <td>NaN</td>\n",
       "      <td>41.307129</td>\n",
       "      <td>-89.628487</td>\n",
       "    </tr>\n",
       "    <tr>\n",
       "      <th>2</th>\n",
       "      <td>10750</td>\n",
       "      <td>Margery-Ray Alpacas</td>\n",
       "      <td>NaN</td>\n",
       "      <td>NaN</td>\n",
       "      <td>Concord Township</td>\n",
       "      <td>OH</td>\n",
       "      <td>44077</td>\n",
       "      <td>NaN</td>\n",
       "      <td>+440-251-0668</td>\n",
       "      <td>NaN</td>\n",
       "      <td>41.660469</td>\n",
       "      <td>-81.199707</td>\n",
       "    </tr>\n",
       "    <tr>\n",
       "      <th>3</th>\n",
       "      <td>20438</td>\n",
       "      <td>North Country Alpacas</td>\n",
       "      <td>NaN</td>\n",
       "      <td>NaN</td>\n",
       "      <td>Le Sueur</td>\n",
       "      <td>MN</td>\n",
       "      <td>56058</td>\n",
       "      <td>NaN</td>\n",
       "      <td>+612-756-4262</td>\n",
       "      <td>NaN</td>\n",
       "      <td>44.453220</td>\n",
       "      <td>-93.872223</td>\n",
       "    </tr>\n",
       "    <tr>\n",
       "      <th>4</th>\n",
       "      <td>7066</td>\n",
       "      <td>Awesome Acres 'Pacas &amp; Pyrs</td>\n",
       "      <td>NaN</td>\n",
       "      <td>NaN</td>\n",
       "      <td>Oklahoma City</td>\n",
       "      <td>OK</td>\n",
       "      <td>73165</td>\n",
       "      <td>NaN</td>\n",
       "      <td>+4059908205</td>\n",
       "      <td>NaN</td>\n",
       "      <td>35.350361</td>\n",
       "      <td>-97.300171</td>\n",
       "    </tr>\n",
       "  </tbody>\n",
       "</table>\n",
       "</div>"
      ],
      "text/plain": [
       "      id                         name            addressOne addressTwo  \\\n",
       "0   7398     High Country Alpacas LLC  4128 County Road 129              \n",
       "1   8366       Tiskilwa Farms Alpacas                   NaN        NaN   \n",
       "2  10750          Margery-Ray Alpacas                   NaN        NaN   \n",
       "3  20438        North Country Alpacas                   NaN        NaN   \n",
       "4   7066  Awesome Acres 'Pacas & Pyrs                   NaN        NaN   \n",
       "\n",
       "               city state    zip                      email          phone  \\\n",
       "0          Hesperus    CO  81326  mary.wilcox2001@gmail.com  +480-296-8588   \n",
       "1          Tiskilwa    IL  61368                        NaN  +312-342-9855   \n",
       "2  Concord Township    OH  44077                        NaN  +440-251-0668   \n",
       "3          Le Sueur    MN  56058                        NaN  +612-756-4262   \n",
       "4     Oklahoma City    OK  73165                        NaN    +4059908205   \n",
       "\n",
       "                      website        lat         lng  \n",
       "0  www.highcountryalpacas.com  37.172791 -108.092308  \n",
       "1                         NaN  41.307129  -89.628487  \n",
       "2                         NaN  41.660469  -81.199707  \n",
       "3                         NaN  44.453220  -93.872223  \n",
       "4                         NaN  35.350361  -97.300171  "
      ]
     },
     "execution_count": 4,
     "metadata": {},
     "output_type": "execute_result"
    }
   ],
   "source": [
    "alpacas_info.head()"
   ]
  },
  {
   "cell_type": "code",
   "execution_count": 5,
   "metadata": {},
   "outputs": [],
   "source": [
    "# Drop columns that are not needed\n",
    "alpacas_info.drop(columns=['addressOne', 'addressTwo', 'zip', 'email', 'phone', 'website'], inplace=True)\n"
   ]
  },
  {
   "cell_type": "code",
   "execution_count": 6,
   "metadata": {},
   "outputs": [
    {
     "data": {
      "text/html": [
       "<div>\n",
       "<style scoped>\n",
       "    .dataframe tbody tr th:only-of-type {\n",
       "        vertical-align: middle;\n",
       "    }\n",
       "\n",
       "    .dataframe tbody tr th {\n",
       "        vertical-align: top;\n",
       "    }\n",
       "\n",
       "    .dataframe thead th {\n",
       "        text-align: right;\n",
       "    }\n",
       "</style>\n",
       "<table border=\"1\" class=\"dataframe\">\n",
       "  <thead>\n",
       "    <tr style=\"text-align: right;\">\n",
       "      <th></th>\n",
       "      <th>id</th>\n",
       "      <th>name</th>\n",
       "      <th>city</th>\n",
       "      <th>state</th>\n",
       "      <th>lat</th>\n",
       "      <th>lng</th>\n",
       "    </tr>\n",
       "  </thead>\n",
       "  <tbody>\n",
       "    <tr>\n",
       "      <th>0</th>\n",
       "      <td>7398</td>\n",
       "      <td>High Country Alpacas LLC</td>\n",
       "      <td>Hesperus</td>\n",
       "      <td>CO</td>\n",
       "      <td>37.172791</td>\n",
       "      <td>-108.092308</td>\n",
       "    </tr>\n",
       "    <tr>\n",
       "      <th>1</th>\n",
       "      <td>8366</td>\n",
       "      <td>Tiskilwa Farms Alpacas</td>\n",
       "      <td>Tiskilwa</td>\n",
       "      <td>IL</td>\n",
       "      <td>41.307129</td>\n",
       "      <td>-89.628487</td>\n",
       "    </tr>\n",
       "    <tr>\n",
       "      <th>2</th>\n",
       "      <td>10750</td>\n",
       "      <td>Margery-Ray Alpacas</td>\n",
       "      <td>Concord Township</td>\n",
       "      <td>OH</td>\n",
       "      <td>41.660469</td>\n",
       "      <td>-81.199707</td>\n",
       "    </tr>\n",
       "    <tr>\n",
       "      <th>3</th>\n",
       "      <td>20438</td>\n",
       "      <td>North Country Alpacas</td>\n",
       "      <td>Le Sueur</td>\n",
       "      <td>MN</td>\n",
       "      <td>44.453220</td>\n",
       "      <td>-93.872223</td>\n",
       "    </tr>\n",
       "    <tr>\n",
       "      <th>4</th>\n",
       "      <td>7066</td>\n",
       "      <td>Awesome Acres 'Pacas &amp; Pyrs</td>\n",
       "      <td>Oklahoma City</td>\n",
       "      <td>OK</td>\n",
       "      <td>35.350361</td>\n",
       "      <td>-97.300171</td>\n",
       "    </tr>\n",
       "  </tbody>\n",
       "</table>\n",
       "</div>"
      ],
      "text/plain": [
       "      id                         name              city state        lat  \\\n",
       "0   7398     High Country Alpacas LLC          Hesperus    CO  37.172791   \n",
       "1   8366       Tiskilwa Farms Alpacas          Tiskilwa    IL  41.307129   \n",
       "2  10750          Margery-Ray Alpacas  Concord Township    OH  41.660469   \n",
       "3  20438        North Country Alpacas          Le Sueur    MN  44.453220   \n",
       "4   7066  Awesome Acres 'Pacas & Pyrs     Oklahoma City    OK  35.350361   \n",
       "\n",
       "          lng  \n",
       "0 -108.092308  \n",
       "1  -89.628487  \n",
       "2  -81.199707  \n",
       "3  -93.872223  \n",
       "4  -97.300171  "
      ]
     },
     "execution_count": 6,
     "metadata": {},
     "output_type": "execute_result"
    }
   ],
   "source": [
    "alpacas_info.head()"
   ]
  },
  {
   "cell_type": "code",
   "execution_count": 7,
   "metadata": {},
   "outputs": [],
   "source": [
    "# Make dataframe into a csv\n",
    "alpacas_info.to_csv('alpacas_data.csv', index=False)\n"
   ]
  },
  {
   "cell_type": "code",
   "execution_count": 8,
   "metadata": {},
   "outputs": [
    {
     "data": {
      "text/html": [
       "<div>\n",
       "<style scoped>\n",
       "    .dataframe tbody tr th:only-of-type {\n",
       "        vertical-align: middle;\n",
       "    }\n",
       "\n",
       "    .dataframe tbody tr th {\n",
       "        vertical-align: top;\n",
       "    }\n",
       "\n",
       "    .dataframe thead th {\n",
       "        text-align: right;\n",
       "    }\n",
       "</style>\n",
       "<table border=\"1\" class=\"dataframe\">\n",
       "  <thead>\n",
       "    <tr style=\"text-align: right;\">\n",
       "      <th></th>\n",
       "      <th>state</th>\n",
       "      <th>0</th>\n",
       "    </tr>\n",
       "  </thead>\n",
       "  <tbody>\n",
       "    <tr>\n",
       "      <th>0</th>\n",
       "      <td>PA</td>\n",
       "      <td>46</td>\n",
       "    </tr>\n",
       "    <tr>\n",
       "      <th>1</th>\n",
       "      <td>CO</td>\n",
       "      <td>42</td>\n",
       "    </tr>\n",
       "    <tr>\n",
       "      <th>2</th>\n",
       "      <td>WA</td>\n",
       "      <td>37</td>\n",
       "    </tr>\n",
       "    <tr>\n",
       "      <th>3</th>\n",
       "      <td>OH</td>\n",
       "      <td>35</td>\n",
       "    </tr>\n",
       "    <tr>\n",
       "      <th>4</th>\n",
       "      <td>OR</td>\n",
       "      <td>34</td>\n",
       "    </tr>\n",
       "    <tr>\n",
       "      <th>5</th>\n",
       "      <td>NY</td>\n",
       "      <td>34</td>\n",
       "    </tr>\n",
       "    <tr>\n",
       "      <th>6</th>\n",
       "      <td>CA</td>\n",
       "      <td>31</td>\n",
       "    </tr>\n",
       "    <tr>\n",
       "      <th>7</th>\n",
       "      <td>TX</td>\n",
       "      <td>27</td>\n",
       "    </tr>\n",
       "    <tr>\n",
       "      <th>8</th>\n",
       "      <td>IL</td>\n",
       "      <td>26</td>\n",
       "    </tr>\n",
       "    <tr>\n",
       "      <th>9</th>\n",
       "      <td>VA</td>\n",
       "      <td>24</td>\n",
       "    </tr>\n",
       "    <tr>\n",
       "      <th>10</th>\n",
       "      <td>MI</td>\n",
       "      <td>23</td>\n",
       "    </tr>\n",
       "    <tr>\n",
       "      <th>11</th>\n",
       "      <td>NC</td>\n",
       "      <td>20</td>\n",
       "    </tr>\n",
       "    <tr>\n",
       "      <th>12</th>\n",
       "      <td>WI</td>\n",
       "      <td>19</td>\n",
       "    </tr>\n",
       "    <tr>\n",
       "      <th>13</th>\n",
       "      <td>MN</td>\n",
       "      <td>17</td>\n",
       "    </tr>\n",
       "    <tr>\n",
       "      <th>14</th>\n",
       "      <td>MO</td>\n",
       "      <td>15</td>\n",
       "    </tr>\n",
       "    <tr>\n",
       "      <th>15</th>\n",
       "      <td>OK</td>\n",
       "      <td>11</td>\n",
       "    </tr>\n",
       "    <tr>\n",
       "      <th>16</th>\n",
       "      <td>TN</td>\n",
       "      <td>10</td>\n",
       "    </tr>\n",
       "    <tr>\n",
       "      <th>17</th>\n",
       "      <td>MD</td>\n",
       "      <td>9</td>\n",
       "    </tr>\n",
       "    <tr>\n",
       "      <th>18</th>\n",
       "      <td>AZ</td>\n",
       "      <td>9</td>\n",
       "    </tr>\n",
       "    <tr>\n",
       "      <th>19</th>\n",
       "      <td>IA</td>\n",
       "      <td>9</td>\n",
       "    </tr>\n",
       "    <tr>\n",
       "      <th>20</th>\n",
       "      <td>MT</td>\n",
       "      <td>9</td>\n",
       "    </tr>\n",
       "    <tr>\n",
       "      <th>21</th>\n",
       "      <td>KS</td>\n",
       "      <td>9</td>\n",
       "    </tr>\n",
       "    <tr>\n",
       "      <th>22</th>\n",
       "      <td>KY</td>\n",
       "      <td>9</td>\n",
       "    </tr>\n",
       "    <tr>\n",
       "      <th>23</th>\n",
       "      <td>ID</td>\n",
       "      <td>8</td>\n",
       "    </tr>\n",
       "    <tr>\n",
       "      <th>24</th>\n",
       "      <td>CT</td>\n",
       "      <td>8</td>\n",
       "    </tr>\n",
       "    <tr>\n",
       "      <th>25</th>\n",
       "      <td>NJ</td>\n",
       "      <td>8</td>\n",
       "    </tr>\n",
       "    <tr>\n",
       "      <th>26</th>\n",
       "      <td>MA</td>\n",
       "      <td>7</td>\n",
       "    </tr>\n",
       "    <tr>\n",
       "      <th>27</th>\n",
       "      <td>IN</td>\n",
       "      <td>7</td>\n",
       "    </tr>\n",
       "    <tr>\n",
       "      <th>28</th>\n",
       "      <td>UT</td>\n",
       "      <td>6</td>\n",
       "    </tr>\n",
       "    <tr>\n",
       "      <th>29</th>\n",
       "      <td>NM</td>\n",
       "      <td>6</td>\n",
       "    </tr>\n",
       "    <tr>\n",
       "      <th>30</th>\n",
       "      <td>ME</td>\n",
       "      <td>6</td>\n",
       "    </tr>\n",
       "    <tr>\n",
       "      <th>31</th>\n",
       "      <td>NE</td>\n",
       "      <td>5</td>\n",
       "    </tr>\n",
       "    <tr>\n",
       "      <th>32</th>\n",
       "      <td>GA</td>\n",
       "      <td>5</td>\n",
       "    </tr>\n",
       "    <tr>\n",
       "      <th>33</th>\n",
       "      <td>WV</td>\n",
       "      <td>5</td>\n",
       "    </tr>\n",
       "    <tr>\n",
       "      <th>34</th>\n",
       "      <td>NH</td>\n",
       "      <td>4</td>\n",
       "    </tr>\n",
       "    <tr>\n",
       "      <th>35</th>\n",
       "      <td>DE</td>\n",
       "      <td>4</td>\n",
       "    </tr>\n",
       "    <tr>\n",
       "      <th>36</th>\n",
       "      <td>FL</td>\n",
       "      <td>3</td>\n",
       "    </tr>\n",
       "    <tr>\n",
       "      <th>37</th>\n",
       "      <td>AR</td>\n",
       "      <td>3</td>\n",
       "    </tr>\n",
       "    <tr>\n",
       "      <th>38</th>\n",
       "      <td>NV</td>\n",
       "      <td>3</td>\n",
       "    </tr>\n",
       "    <tr>\n",
       "      <th>39</th>\n",
       "      <td>SC</td>\n",
       "      <td>2</td>\n",
       "    </tr>\n",
       "    <tr>\n",
       "      <th>40</th>\n",
       "      <td>VT</td>\n",
       "      <td>2</td>\n",
       "    </tr>\n",
       "    <tr>\n",
       "      <th>41</th>\n",
       "      <td>SK</td>\n",
       "      <td>2</td>\n",
       "    </tr>\n",
       "    <tr>\n",
       "      <th>42</th>\n",
       "      <td>AB</td>\n",
       "      <td>2</td>\n",
       "    </tr>\n",
       "    <tr>\n",
       "      <th>43</th>\n",
       "      <td>QC</td>\n",
       "      <td>2</td>\n",
       "    </tr>\n",
       "    <tr>\n",
       "      <th>44</th>\n",
       "      <td>ND</td>\n",
       "      <td>2</td>\n",
       "    </tr>\n",
       "    <tr>\n",
       "      <th>45</th>\n",
       "      <td>MS</td>\n",
       "      <td>2</td>\n",
       "    </tr>\n",
       "    <tr>\n",
       "      <th>46</th>\n",
       "      <td>HI</td>\n",
       "      <td>2</td>\n",
       "    </tr>\n",
       "    <tr>\n",
       "      <th>47</th>\n",
       "      <td>WY</td>\n",
       "      <td>2</td>\n",
       "    </tr>\n",
       "    <tr>\n",
       "      <th>48</th>\n",
       "      <td>SD</td>\n",
       "      <td>1</td>\n",
       "    </tr>\n",
       "    <tr>\n",
       "      <th>49</th>\n",
       "      <td>ON</td>\n",
       "      <td>1</td>\n",
       "    </tr>\n",
       "  </tbody>\n",
       "</table>\n",
       "</div>"
      ],
      "text/plain": [
       "   state   0\n",
       "0     PA  46\n",
       "1     CO  42\n",
       "2     WA  37\n",
       "3     OH  35\n",
       "4     OR  34\n",
       "5     NY  34\n",
       "6     CA  31\n",
       "7     TX  27\n",
       "8     IL  26\n",
       "9     VA  24\n",
       "10    MI  23\n",
       "11    NC  20\n",
       "12    WI  19\n",
       "13    MN  17\n",
       "14    MO  15\n",
       "15    OK  11\n",
       "16    TN  10\n",
       "17    MD   9\n",
       "18    AZ   9\n",
       "19    IA   9\n",
       "20    MT   9\n",
       "21    KS   9\n",
       "22    KY   9\n",
       "23    ID   8\n",
       "24    CT   8\n",
       "25    NJ   8\n",
       "26    MA   7\n",
       "27    IN   7\n",
       "28    UT   6\n",
       "29    NM   6\n",
       "30    ME   6\n",
       "31    NE   5\n",
       "32    GA   5\n",
       "33    WV   5\n",
       "34    NH   4\n",
       "35    DE   4\n",
       "36    FL   3\n",
       "37    AR   3\n",
       "38    NV   3\n",
       "39    SC   2\n",
       "40    VT   2\n",
       "41    SK   2\n",
       "42    AB   2\n",
       "43    QC   2\n",
       "44    ND   2\n",
       "45    MS   2\n",
       "46    HI   2\n",
       "47    WY   2\n",
       "48    SD   1\n",
       "49    ON   1"
      ]
     },
     "execution_count": 8,
     "metadata": {},
     "output_type": "execute_result"
    }
   ],
   "source": [
    "# Count how many farms are in each state\n",
    "alpacas_count_df=alpaca_df.value_counts('state').reset_index()\n",
    "\n",
    "\n",
    "alpacas_count_df.head(50)\n"
   ]
  },
  {
   "cell_type": "code",
   "execution_count": 34,
   "metadata": {},
   "outputs": [
    {
     "data": {
      "text/html": [
       "<div>\n",
       "<style scoped>\n",
       "    .dataframe tbody tr th:only-of-type {\n",
       "        vertical-align: middle;\n",
       "    }\n",
       "\n",
       "    .dataframe tbody tr th {\n",
       "        vertical-align: top;\n",
       "    }\n",
       "\n",
       "    .dataframe thead th {\n",
       "        text-align: right;\n",
       "    }\n",
       "</style>\n",
       "<table border=\"1\" class=\"dataframe\">\n",
       "  <thead>\n",
       "    <tr style=\"text-align: right;\">\n",
       "      <th></th>\n",
       "      <th>state</th>\n",
       "      <th>Farms</th>\n",
       "    </tr>\n",
       "  </thead>\n",
       "  <tbody>\n",
       "    <tr>\n",
       "      <th>0</th>\n",
       "      <td>PA</td>\n",
       "      <td>46</td>\n",
       "    </tr>\n",
       "    <tr>\n",
       "      <th>1</th>\n",
       "      <td>CO</td>\n",
       "      <td>42</td>\n",
       "    </tr>\n",
       "    <tr>\n",
       "      <th>2</th>\n",
       "      <td>WA</td>\n",
       "      <td>37</td>\n",
       "    </tr>\n",
       "    <tr>\n",
       "      <th>3</th>\n",
       "      <td>OH</td>\n",
       "      <td>35</td>\n",
       "    </tr>\n",
       "    <tr>\n",
       "      <th>4</th>\n",
       "      <td>OR</td>\n",
       "      <td>34</td>\n",
       "    </tr>\n",
       "  </tbody>\n",
       "</table>\n",
       "</div>"
      ],
      "text/plain": [
       "  state  Farms\n",
       "0    PA     46\n",
       "1    CO     42\n",
       "2    WA     37\n",
       "3    OH     35\n",
       "4    OR     34"
      ]
     },
     "execution_count": 34,
     "metadata": {},
     "output_type": "execute_result"
    }
   ],
   "source": [
    "# Add the missing states\n",
    "new_states = ['AL', 'AK']\n",
    "for state in new_states:\n",
    "    alpacas_count_df.loc[len(alpacas_count_df)] = [state, 0]\n",
    "\n",
    "\n",
    "# Rename 0 column\n",
    "alpacas_count_df.rename(columns={0:'Farms'}, inplace=True)\n",
    "\n",
    "alpacas_count_df.head()\n",
    "\n"
   ]
  },
  {
   "cell_type": "code",
   "execution_count": 35,
   "metadata": {},
   "outputs": [
    {
     "data": {
      "application/vnd.plotly.v1+json": {
       "config": {
        "plotlyServerURL": "https://plot.ly"
       },
       "data": [
        {
         "coloraxis": "coloraxis",
         "geo": "geo",
         "hovertemplate": "<b>%{hovertext}</b><br><br>state=%{location}<br>Farms=%{z}<extra></extra>",
         "hovertext": [
          "PA",
          "CO",
          "WA",
          "OH",
          "OR",
          "NY",
          "CA",
          "TX",
          "IL",
          "VA",
          "MI",
          "NC",
          "WI",
          "MN",
          "MO",
          "OK",
          "TN",
          "MD",
          "AZ",
          "IA",
          "MT",
          "KS",
          "KY",
          "ID",
          "CT",
          "NJ",
          "MA",
          "IN",
          "UT",
          "NM",
          "ME",
          "NE",
          "GA",
          "WV",
          "NH",
          "DE",
          "FL",
          "AR",
          "NV",
          "SC",
          "VT",
          "SK",
          "AB",
          "QC",
          "ND",
          "MS",
          "HI",
          "WY",
          "SD",
          "ON",
          "Niedersachsen",
          "NRW",
          "ML",
          "LA",
          "Buckinghamshire",
          "AL",
          "AL",
          "AK",
          "AL",
          "AK",
          "AL",
          "AK",
          "AL",
          "AK",
          "AL",
          "AK",
          "AL",
          "AK",
          "AL",
          "AK",
          "AL",
          "AK",
          "AL",
          "AK",
          "AL",
          "AK"
         ],
         "locationmode": "USA-states",
         "locations": [
          "PA",
          "CO",
          "WA",
          "OH",
          "OR",
          "NY",
          "CA",
          "TX",
          "IL",
          "VA",
          "MI",
          "NC",
          "WI",
          "MN",
          "MO",
          "OK",
          "TN",
          "MD",
          "AZ",
          "IA",
          "MT",
          "KS",
          "KY",
          "ID",
          "CT",
          "NJ",
          "MA",
          "IN",
          "UT",
          "NM",
          "ME",
          "NE",
          "GA",
          "WV",
          "NH",
          "DE",
          "FL",
          "AR",
          "NV",
          "SC",
          "VT",
          "SK",
          "AB",
          "QC",
          "ND",
          "MS",
          "HI",
          "WY",
          "SD",
          "ON",
          "Niedersachsen",
          "NRW",
          "ML",
          "LA",
          "Buckinghamshire",
          "AL",
          "AL",
          "AK",
          "AL",
          "AK",
          "AL",
          "AK",
          "AL",
          "AK",
          "AL",
          "AK",
          "AL",
          "AK",
          "AL",
          "AK",
          "AL",
          "AK",
          "AL",
          "AK",
          "AL",
          "AK"
         ],
         "name": "",
         "type": "choropleth",
         "z": [
          46,
          42,
          37,
          35,
          34,
          34,
          31,
          27,
          26,
          24,
          23,
          20,
          19,
          17,
          15,
          11,
          10,
          9,
          9,
          9,
          9,
          9,
          9,
          8,
          8,
          8,
          7,
          7,
          6,
          6,
          6,
          5,
          5,
          5,
          4,
          4,
          3,
          3,
          3,
          2,
          2,
          2,
          2,
          2,
          2,
          2,
          2,
          2,
          1,
          1,
          1,
          1,
          1,
          1,
          1,
          0,
          0,
          0,
          0,
          0,
          0,
          0,
          0,
          0,
          0,
          0,
          0,
          0,
          0,
          0,
          0,
          0,
          0,
          0,
          0,
          0
         ]
        }
       ],
       "layout": {
        "coloraxis": {
         "colorbar": {
          "title": {
           "text": "Farms"
          }
         },
         "colorscale": [
          [
           0,
           "rgb(252,251,253)"
          ],
          [
           0.125,
           "rgb(239,237,245)"
          ],
          [
           0.25,
           "rgb(218,218,235)"
          ],
          [
           0.375,
           "rgb(188,189,220)"
          ],
          [
           0.5,
           "rgb(158,154,200)"
          ],
          [
           0.625,
           "rgb(128,125,186)"
          ],
          [
           0.75,
           "rgb(106,81,163)"
          ],
          [
           0.875,
           "rgb(84,39,143)"
          ],
          [
           1,
           "rgb(63,0,125)"
          ]
         ]
        },
        "geo": {
         "center": {},
         "domain": {
          "x": [
           0,
           1
          ],
          "y": [
           0,
           1
          ]
         },
         "scope": "usa"
        },
        "legend": {
         "tracegroupgap": 0
        },
        "margin": {
         "t": 60
        },
        "template": {
         "data": {
          "bar": [
           {
            "error_x": {
             "color": "#2a3f5f"
            },
            "error_y": {
             "color": "#2a3f5f"
            },
            "marker": {
             "line": {
              "color": "#E5ECF6",
              "width": 0.5
             },
             "pattern": {
              "fillmode": "overlay",
              "size": 10,
              "solidity": 0.2
             }
            },
            "type": "bar"
           }
          ],
          "barpolar": [
           {
            "marker": {
             "line": {
              "color": "#E5ECF6",
              "width": 0.5
             },
             "pattern": {
              "fillmode": "overlay",
              "size": 10,
              "solidity": 0.2
             }
            },
            "type": "barpolar"
           }
          ],
          "carpet": [
           {
            "aaxis": {
             "endlinecolor": "#2a3f5f",
             "gridcolor": "white",
             "linecolor": "white",
             "minorgridcolor": "white",
             "startlinecolor": "#2a3f5f"
            },
            "baxis": {
             "endlinecolor": "#2a3f5f",
             "gridcolor": "white",
             "linecolor": "white",
             "minorgridcolor": "white",
             "startlinecolor": "#2a3f5f"
            },
            "type": "carpet"
           }
          ],
          "choropleth": [
           {
            "colorbar": {
             "outlinewidth": 0,
             "ticks": ""
            },
            "type": "choropleth"
           }
          ],
          "contour": [
           {
            "colorbar": {
             "outlinewidth": 0,
             "ticks": ""
            },
            "colorscale": [
             [
              0,
              "#0d0887"
             ],
             [
              0.1111111111111111,
              "#46039f"
             ],
             [
              0.2222222222222222,
              "#7201a8"
             ],
             [
              0.3333333333333333,
              "#9c179e"
             ],
             [
              0.4444444444444444,
              "#bd3786"
             ],
             [
              0.5555555555555556,
              "#d8576b"
             ],
             [
              0.6666666666666666,
              "#ed7953"
             ],
             [
              0.7777777777777778,
              "#fb9f3a"
             ],
             [
              0.8888888888888888,
              "#fdca26"
             ],
             [
              1,
              "#f0f921"
             ]
            ],
            "type": "contour"
           }
          ],
          "contourcarpet": [
           {
            "colorbar": {
             "outlinewidth": 0,
             "ticks": ""
            },
            "type": "contourcarpet"
           }
          ],
          "heatmap": [
           {
            "colorbar": {
             "outlinewidth": 0,
             "ticks": ""
            },
            "colorscale": [
             [
              0,
              "#0d0887"
             ],
             [
              0.1111111111111111,
              "#46039f"
             ],
             [
              0.2222222222222222,
              "#7201a8"
             ],
             [
              0.3333333333333333,
              "#9c179e"
             ],
             [
              0.4444444444444444,
              "#bd3786"
             ],
             [
              0.5555555555555556,
              "#d8576b"
             ],
             [
              0.6666666666666666,
              "#ed7953"
             ],
             [
              0.7777777777777778,
              "#fb9f3a"
             ],
             [
              0.8888888888888888,
              "#fdca26"
             ],
             [
              1,
              "#f0f921"
             ]
            ],
            "type": "heatmap"
           }
          ],
          "heatmapgl": [
           {
            "colorbar": {
             "outlinewidth": 0,
             "ticks": ""
            },
            "colorscale": [
             [
              0,
              "#0d0887"
             ],
             [
              0.1111111111111111,
              "#46039f"
             ],
             [
              0.2222222222222222,
              "#7201a8"
             ],
             [
              0.3333333333333333,
              "#9c179e"
             ],
             [
              0.4444444444444444,
              "#bd3786"
             ],
             [
              0.5555555555555556,
              "#d8576b"
             ],
             [
              0.6666666666666666,
              "#ed7953"
             ],
             [
              0.7777777777777778,
              "#fb9f3a"
             ],
             [
              0.8888888888888888,
              "#fdca26"
             ],
             [
              1,
              "#f0f921"
             ]
            ],
            "type": "heatmapgl"
           }
          ],
          "histogram": [
           {
            "marker": {
             "pattern": {
              "fillmode": "overlay",
              "size": 10,
              "solidity": 0.2
             }
            },
            "type": "histogram"
           }
          ],
          "histogram2d": [
           {
            "colorbar": {
             "outlinewidth": 0,
             "ticks": ""
            },
            "colorscale": [
             [
              0,
              "#0d0887"
             ],
             [
              0.1111111111111111,
              "#46039f"
             ],
             [
              0.2222222222222222,
              "#7201a8"
             ],
             [
              0.3333333333333333,
              "#9c179e"
             ],
             [
              0.4444444444444444,
              "#bd3786"
             ],
             [
              0.5555555555555556,
              "#d8576b"
             ],
             [
              0.6666666666666666,
              "#ed7953"
             ],
             [
              0.7777777777777778,
              "#fb9f3a"
             ],
             [
              0.8888888888888888,
              "#fdca26"
             ],
             [
              1,
              "#f0f921"
             ]
            ],
            "type": "histogram2d"
           }
          ],
          "histogram2dcontour": [
           {
            "colorbar": {
             "outlinewidth": 0,
             "ticks": ""
            },
            "colorscale": [
             [
              0,
              "#0d0887"
             ],
             [
              0.1111111111111111,
              "#46039f"
             ],
             [
              0.2222222222222222,
              "#7201a8"
             ],
             [
              0.3333333333333333,
              "#9c179e"
             ],
             [
              0.4444444444444444,
              "#bd3786"
             ],
             [
              0.5555555555555556,
              "#d8576b"
             ],
             [
              0.6666666666666666,
              "#ed7953"
             ],
             [
              0.7777777777777778,
              "#fb9f3a"
             ],
             [
              0.8888888888888888,
              "#fdca26"
             ],
             [
              1,
              "#f0f921"
             ]
            ],
            "type": "histogram2dcontour"
           }
          ],
          "mesh3d": [
           {
            "colorbar": {
             "outlinewidth": 0,
             "ticks": ""
            },
            "type": "mesh3d"
           }
          ],
          "parcoords": [
           {
            "line": {
             "colorbar": {
              "outlinewidth": 0,
              "ticks": ""
             }
            },
            "type": "parcoords"
           }
          ],
          "pie": [
           {
            "automargin": true,
            "type": "pie"
           }
          ],
          "scatter": [
           {
            "fillpattern": {
             "fillmode": "overlay",
             "size": 10,
             "solidity": 0.2
            },
            "type": "scatter"
           }
          ],
          "scatter3d": [
           {
            "line": {
             "colorbar": {
              "outlinewidth": 0,
              "ticks": ""
             }
            },
            "marker": {
             "colorbar": {
              "outlinewidth": 0,
              "ticks": ""
             }
            },
            "type": "scatter3d"
           }
          ],
          "scattercarpet": [
           {
            "marker": {
             "colorbar": {
              "outlinewidth": 0,
              "ticks": ""
             }
            },
            "type": "scattercarpet"
           }
          ],
          "scattergeo": [
           {
            "marker": {
             "colorbar": {
              "outlinewidth": 0,
              "ticks": ""
             }
            },
            "type": "scattergeo"
           }
          ],
          "scattergl": [
           {
            "marker": {
             "colorbar": {
              "outlinewidth": 0,
              "ticks": ""
             }
            },
            "type": "scattergl"
           }
          ],
          "scattermapbox": [
           {
            "marker": {
             "colorbar": {
              "outlinewidth": 0,
              "ticks": ""
             }
            },
            "type": "scattermapbox"
           }
          ],
          "scatterpolar": [
           {
            "marker": {
             "colorbar": {
              "outlinewidth": 0,
              "ticks": ""
             }
            },
            "type": "scatterpolar"
           }
          ],
          "scatterpolargl": [
           {
            "marker": {
             "colorbar": {
              "outlinewidth": 0,
              "ticks": ""
             }
            },
            "type": "scatterpolargl"
           }
          ],
          "scatterternary": [
           {
            "marker": {
             "colorbar": {
              "outlinewidth": 0,
              "ticks": ""
             }
            },
            "type": "scatterternary"
           }
          ],
          "surface": [
           {
            "colorbar": {
             "outlinewidth": 0,
             "ticks": ""
            },
            "colorscale": [
             [
              0,
              "#0d0887"
             ],
             [
              0.1111111111111111,
              "#46039f"
             ],
             [
              0.2222222222222222,
              "#7201a8"
             ],
             [
              0.3333333333333333,
              "#9c179e"
             ],
             [
              0.4444444444444444,
              "#bd3786"
             ],
             [
              0.5555555555555556,
              "#d8576b"
             ],
             [
              0.6666666666666666,
              "#ed7953"
             ],
             [
              0.7777777777777778,
              "#fb9f3a"
             ],
             [
              0.8888888888888888,
              "#fdca26"
             ],
             [
              1,
              "#f0f921"
             ]
            ],
            "type": "surface"
           }
          ],
          "table": [
           {
            "cells": {
             "fill": {
              "color": "#EBF0F8"
             },
             "line": {
              "color": "white"
             }
            },
            "header": {
             "fill": {
              "color": "#C8D4E3"
             },
             "line": {
              "color": "white"
             }
            },
            "type": "table"
           }
          ]
         },
         "layout": {
          "annotationdefaults": {
           "arrowcolor": "#2a3f5f",
           "arrowhead": 0,
           "arrowwidth": 1
          },
          "autotypenumbers": "strict",
          "coloraxis": {
           "colorbar": {
            "outlinewidth": 0,
            "ticks": ""
           }
          },
          "colorscale": {
           "diverging": [
            [
             0,
             "#8e0152"
            ],
            [
             0.1,
             "#c51b7d"
            ],
            [
             0.2,
             "#de77ae"
            ],
            [
             0.3,
             "#f1b6da"
            ],
            [
             0.4,
             "#fde0ef"
            ],
            [
             0.5,
             "#f7f7f7"
            ],
            [
             0.6,
             "#e6f5d0"
            ],
            [
             0.7,
             "#b8e186"
            ],
            [
             0.8,
             "#7fbc41"
            ],
            [
             0.9,
             "#4d9221"
            ],
            [
             1,
             "#276419"
            ]
           ],
           "sequential": [
            [
             0,
             "#0d0887"
            ],
            [
             0.1111111111111111,
             "#46039f"
            ],
            [
             0.2222222222222222,
             "#7201a8"
            ],
            [
             0.3333333333333333,
             "#9c179e"
            ],
            [
             0.4444444444444444,
             "#bd3786"
            ],
            [
             0.5555555555555556,
             "#d8576b"
            ],
            [
             0.6666666666666666,
             "#ed7953"
            ],
            [
             0.7777777777777778,
             "#fb9f3a"
            ],
            [
             0.8888888888888888,
             "#fdca26"
            ],
            [
             1,
             "#f0f921"
            ]
           ],
           "sequentialminus": [
            [
             0,
             "#0d0887"
            ],
            [
             0.1111111111111111,
             "#46039f"
            ],
            [
             0.2222222222222222,
             "#7201a8"
            ],
            [
             0.3333333333333333,
             "#9c179e"
            ],
            [
             0.4444444444444444,
             "#bd3786"
            ],
            [
             0.5555555555555556,
             "#d8576b"
            ],
            [
             0.6666666666666666,
             "#ed7953"
            ],
            [
             0.7777777777777778,
             "#fb9f3a"
            ],
            [
             0.8888888888888888,
             "#fdca26"
            ],
            [
             1,
             "#f0f921"
            ]
           ]
          },
          "colorway": [
           "#636efa",
           "#EF553B",
           "#00cc96",
           "#ab63fa",
           "#FFA15A",
           "#19d3f3",
           "#FF6692",
           "#B6E880",
           "#FF97FF",
           "#FECB52"
          ],
          "font": {
           "color": "#2a3f5f"
          },
          "geo": {
           "bgcolor": "white",
           "lakecolor": "white",
           "landcolor": "#E5ECF6",
           "showlakes": true,
           "showland": true,
           "subunitcolor": "white"
          },
          "hoverlabel": {
           "align": "left"
          },
          "hovermode": "closest",
          "mapbox": {
           "style": "light"
          },
          "paper_bgcolor": "white",
          "plot_bgcolor": "#E5ECF6",
          "polar": {
           "angularaxis": {
            "gridcolor": "white",
            "linecolor": "white",
            "ticks": ""
           },
           "bgcolor": "#E5ECF6",
           "radialaxis": {
            "gridcolor": "white",
            "linecolor": "white",
            "ticks": ""
           }
          },
          "scene": {
           "xaxis": {
            "backgroundcolor": "#E5ECF6",
            "gridcolor": "white",
            "gridwidth": 2,
            "linecolor": "white",
            "showbackground": true,
            "ticks": "",
            "zerolinecolor": "white"
           },
           "yaxis": {
            "backgroundcolor": "#E5ECF6",
            "gridcolor": "white",
            "gridwidth": 2,
            "linecolor": "white",
            "showbackground": true,
            "ticks": "",
            "zerolinecolor": "white"
           },
           "zaxis": {
            "backgroundcolor": "#E5ECF6",
            "gridcolor": "white",
            "gridwidth": 2,
            "linecolor": "white",
            "showbackground": true,
            "ticks": "",
            "zerolinecolor": "white"
           }
          },
          "shapedefaults": {
           "line": {
            "color": "#2a3f5f"
           }
          },
          "ternary": {
           "aaxis": {
            "gridcolor": "white",
            "linecolor": "white",
            "ticks": ""
           },
           "baxis": {
            "gridcolor": "white",
            "linecolor": "white",
            "ticks": ""
           },
           "bgcolor": "#E5ECF6",
           "caxis": {
            "gridcolor": "white",
            "linecolor": "white",
            "ticks": ""
           }
          },
          "title": {
           "x": 0.05
          },
          "xaxis": {
           "automargin": true,
           "gridcolor": "white",
           "linecolor": "white",
           "ticks": "",
           "title": {
            "standoff": 15
           },
           "zerolinecolor": "white",
           "zerolinewidth": 2
          },
          "yaxis": {
           "automargin": true,
           "gridcolor": "white",
           "linecolor": "white",
           "ticks": "",
           "title": {
            "standoff": 15
           },
           "zerolinecolor": "white",
           "zerolinewidth": 2
          }
         }
        }
       }
      }
     },
     "metadata": {},
     "output_type": "display_data"
    }
   ],
   "source": [
    "# Create map visual of alpaca farms in each state\n",
    "\n",
    "fig = px.choropleth(alpacas_count_df,\n",
    "                    locations='state',\n",
    "                    color='Farms',\n",
    "                    color_continuous_scale='purples',\n",
    "                    hover_name='state',\n",
    "                    locationmode='USA-states',\n",
    "                    scope='usa')\n",
    "\n",
    "\n",
    "fig.show()"
   ]
  }
 ],
 "metadata": {
  "kernelspec": {
   "display_name": "Python 3",
   "language": "python",
   "name": "python3"
  },
  "language_info": {
   "codemirror_mode": {
    "name": "ipython",
    "version": 3
   },
   "file_extension": ".py",
   "mimetype": "text/x-python",
   "name": "python",
   "nbconvert_exporter": "python",
   "pygments_lexer": "ipython3",
   "version": "3.10.10"
  },
  "orig_nbformat": 4
 },
 "nbformat": 4,
 "nbformat_minor": 2
}
